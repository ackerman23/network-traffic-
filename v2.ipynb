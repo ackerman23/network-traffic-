{
 "cells": [
  {
   "cell_type": "code",
   "execution_count": 1,
   "metadata": {},
   "outputs": [],
   "source": [
    "import numpy as np \n",
    "import pandas as pd \n",
    "import matplotlib.pyplot as plt \n",
    "import seaborn as sns"
   ]
  },
  {
   "cell_type": "code",
   "execution_count": 2,
   "metadata": {},
   "outputs": [],
   "source": [
    "df = pd.read_csv('data_set.csv')"
   ]
  },
  {
   "cell_type": "code",
   "execution_count": 3,
   "metadata": {},
   "outputs": [
    {
     "data": {
      "text/html": [
       "<div>\n",
       "<style scoped>\n",
       "    .dataframe tbody tr th:only-of-type {\n",
       "        vertical-align: middle;\n",
       "    }\n",
       "\n",
       "    .dataframe tbody tr th {\n",
       "        vertical-align: top;\n",
       "    }\n",
       "\n",
       "    .dataframe thead th {\n",
       "        text-align: right;\n",
       "    }\n",
       "</style>\n",
       "<table border=\"1\" class=\"dataframe\">\n",
       "  <thead>\n",
       "    <tr style=\"text-align: right;\">\n",
       "      <th></th>\n",
       "      <th>Flow.ID</th>\n",
       "      <th>Source.IP</th>\n",
       "      <th>Source.Port</th>\n",
       "      <th>Destination.IP</th>\n",
       "      <th>Destination.Port</th>\n",
       "      <th>Protocol</th>\n",
       "      <th>Timestamp</th>\n",
       "      <th>Flow.Duration</th>\n",
       "      <th>Total.Fwd.Packets</th>\n",
       "      <th>Total.Backward.Packets</th>\n",
       "      <th>...</th>\n",
       "      <th>Active.Std</th>\n",
       "      <th>Active.Max</th>\n",
       "      <th>Active.Min</th>\n",
       "      <th>Idle.Mean</th>\n",
       "      <th>Idle.Std</th>\n",
       "      <th>Idle.Max</th>\n",
       "      <th>Idle.Min</th>\n",
       "      <th>Label</th>\n",
       "      <th>L7Protocol</th>\n",
       "      <th>ProtocolName</th>\n",
       "    </tr>\n",
       "  </thead>\n",
       "  <tbody>\n",
       "    <tr>\n",
       "      <th>0</th>\n",
       "      <td>172.19.1.46-10.200.7.7-52422-3128-6</td>\n",
       "      <td>172.19.1.46</td>\n",
       "      <td>52422</td>\n",
       "      <td>10.200.7.7</td>\n",
       "      <td>3128</td>\n",
       "      <td>6</td>\n",
       "      <td>26/04/201711:11:17</td>\n",
       "      <td>45523</td>\n",
       "      <td>22</td>\n",
       "      <td>55</td>\n",
       "      <td>...</td>\n",
       "      <td>0.0</td>\n",
       "      <td>0.0</td>\n",
       "      <td>0.0</td>\n",
       "      <td>0.0</td>\n",
       "      <td>0.0</td>\n",
       "      <td>0.0</td>\n",
       "      <td>0.0</td>\n",
       "      <td>BENIGN</td>\n",
       "      <td>131</td>\n",
       "      <td>HTTP_PROXY</td>\n",
       "    </tr>\n",
       "    <tr>\n",
       "      <th>1</th>\n",
       "      <td>172.19.1.46-10.200.7.7-52422-3128-6</td>\n",
       "      <td>10.200.7.7</td>\n",
       "      <td>3128</td>\n",
       "      <td>172.19.1.46</td>\n",
       "      <td>52422</td>\n",
       "      <td>6</td>\n",
       "      <td>26/04/201711:11:17</td>\n",
       "      <td>1</td>\n",
       "      <td>2</td>\n",
       "      <td>0</td>\n",
       "      <td>...</td>\n",
       "      <td>0.0</td>\n",
       "      <td>0.0</td>\n",
       "      <td>0.0</td>\n",
       "      <td>0.0</td>\n",
       "      <td>0.0</td>\n",
       "      <td>0.0</td>\n",
       "      <td>0.0</td>\n",
       "      <td>BENIGN</td>\n",
       "      <td>131</td>\n",
       "      <td>HTTP_PROXY</td>\n",
       "    </tr>\n",
       "    <tr>\n",
       "      <th>2</th>\n",
       "      <td>10.200.7.217-50.31.185.39-38848-80-6</td>\n",
       "      <td>50.31.185.39</td>\n",
       "      <td>80</td>\n",
       "      <td>10.200.7.217</td>\n",
       "      <td>38848</td>\n",
       "      <td>6</td>\n",
       "      <td>26/04/201711:11:17</td>\n",
       "      <td>1</td>\n",
       "      <td>3</td>\n",
       "      <td>0</td>\n",
       "      <td>...</td>\n",
       "      <td>0.0</td>\n",
       "      <td>0.0</td>\n",
       "      <td>0.0</td>\n",
       "      <td>0.0</td>\n",
       "      <td>0.0</td>\n",
       "      <td>0.0</td>\n",
       "      <td>0.0</td>\n",
       "      <td>BENIGN</td>\n",
       "      <td>7</td>\n",
       "      <td>HTTP</td>\n",
       "    </tr>\n",
       "    <tr>\n",
       "      <th>3</th>\n",
       "      <td>10.200.7.217-50.31.185.39-38848-80-6</td>\n",
       "      <td>50.31.185.39</td>\n",
       "      <td>80</td>\n",
       "      <td>10.200.7.217</td>\n",
       "      <td>38848</td>\n",
       "      <td>6</td>\n",
       "      <td>26/04/201711:11:17</td>\n",
       "      <td>217</td>\n",
       "      <td>1</td>\n",
       "      <td>3</td>\n",
       "      <td>...</td>\n",
       "      <td>0.0</td>\n",
       "      <td>0.0</td>\n",
       "      <td>0.0</td>\n",
       "      <td>0.0</td>\n",
       "      <td>0.0</td>\n",
       "      <td>0.0</td>\n",
       "      <td>0.0</td>\n",
       "      <td>BENIGN</td>\n",
       "      <td>7</td>\n",
       "      <td>HTTP</td>\n",
       "    </tr>\n",
       "    <tr>\n",
       "      <th>4</th>\n",
       "      <td>192.168.72.43-10.200.7.7-55961-3128-6</td>\n",
       "      <td>192.168.72.43</td>\n",
       "      <td>55961</td>\n",
       "      <td>10.200.7.7</td>\n",
       "      <td>3128</td>\n",
       "      <td>6</td>\n",
       "      <td>26/04/201711:11:17</td>\n",
       "      <td>78068</td>\n",
       "      <td>5</td>\n",
       "      <td>0</td>\n",
       "      <td>...</td>\n",
       "      <td>0.0</td>\n",
       "      <td>0.0</td>\n",
       "      <td>0.0</td>\n",
       "      <td>0.0</td>\n",
       "      <td>0.0</td>\n",
       "      <td>0.0</td>\n",
       "      <td>0.0</td>\n",
       "      <td>BENIGN</td>\n",
       "      <td>131</td>\n",
       "      <td>HTTP_PROXY</td>\n",
       "    </tr>\n",
       "  </tbody>\n",
       "</table>\n",
       "<p>5 rows × 87 columns</p>\n",
       "</div>"
      ],
      "text/plain": [
       "                                 Flow.ID      Source.IP  Source.Port  \\\n",
       "0    172.19.1.46-10.200.7.7-52422-3128-6    172.19.1.46        52422   \n",
       "1    172.19.1.46-10.200.7.7-52422-3128-6     10.200.7.7         3128   \n",
       "2   10.200.7.217-50.31.185.39-38848-80-6   50.31.185.39           80   \n",
       "3   10.200.7.217-50.31.185.39-38848-80-6   50.31.185.39           80   \n",
       "4  192.168.72.43-10.200.7.7-55961-3128-6  192.168.72.43        55961   \n",
       "\n",
       "  Destination.IP  Destination.Port  Protocol           Timestamp  \\\n",
       "0     10.200.7.7              3128         6  26/04/201711:11:17   \n",
       "1    172.19.1.46             52422         6  26/04/201711:11:17   \n",
       "2   10.200.7.217             38848         6  26/04/201711:11:17   \n",
       "3   10.200.7.217             38848         6  26/04/201711:11:17   \n",
       "4     10.200.7.7              3128         6  26/04/201711:11:17   \n",
       "\n",
       "   Flow.Duration  Total.Fwd.Packets  Total.Backward.Packets  ...  Active.Std  \\\n",
       "0          45523                 22                      55  ...         0.0   \n",
       "1              1                  2                       0  ...         0.0   \n",
       "2              1                  3                       0  ...         0.0   \n",
       "3            217                  1                       3  ...         0.0   \n",
       "4          78068                  5                       0  ...         0.0   \n",
       "\n",
       "   Active.Max  Active.Min  Idle.Mean  Idle.Std  Idle.Max  Idle.Min   Label  \\\n",
       "0         0.0         0.0        0.0       0.0       0.0       0.0  BENIGN   \n",
       "1         0.0         0.0        0.0       0.0       0.0       0.0  BENIGN   \n",
       "2         0.0         0.0        0.0       0.0       0.0       0.0  BENIGN   \n",
       "3         0.0         0.0        0.0       0.0       0.0       0.0  BENIGN   \n",
       "4         0.0         0.0        0.0       0.0       0.0       0.0  BENIGN   \n",
       "\n",
       "   L7Protocol  ProtocolName  \n",
       "0         131    HTTP_PROXY  \n",
       "1         131    HTTP_PROXY  \n",
       "2           7          HTTP  \n",
       "3           7          HTTP  \n",
       "4         131    HTTP_PROXY  \n",
       "\n",
       "[5 rows x 87 columns]"
      ]
     },
     "execution_count": 3,
     "metadata": {},
     "output_type": "execute_result"
    }
   ],
   "source": [
    "df.head()"
   ]
  },
  {
   "cell_type": "code",
   "execution_count": 4,
   "metadata": {},
   "outputs": [
    {
     "data": {
      "image/png": "[encoded data removed]",
      "text/plain": [
       "<Figure size 1000x600 with 1 Axes>"
      ]
     },
     "metadata": {},
     "output_type": "display_data"
    }
   ],
   "source": [
    "# Here we are trying to aggregate tables grouping protocol names by the sum of flow duration of each protocol\n",
    "top_protocol_sum_duration = df.groupby('ProtocolName')['Flow.Duration'].sum()\n",
    "\n",
    "# We have to sort the data by the sum of flow duration in descending order\n",
    "top_protocol_sum_duration = top_protocol_sum_duration.sort_values(ascending=False)\n",
    "\n",
    "# And then we selected the top 15 protocols by sum of flow duration\n",
    "top_apps = top_protocol_sum_duration.head(15)\n",
    "\n",
    "# Create a bar plot for the sum of flow duration against protocol names\n",
    "plt.figure(figsize=(10, 6))\n",
    "top_apps.plot(kind='bar', color='red')\n",
    "plt.xlabel('Protocol Names')\n",
    "plt.ylabel('Sum of Flow Duration')\n",
    "plt.title('Top 15 Protocol Names by Sum of Flow Duration')\n",
    "plt.xticks(rotation=45, ha='right')\n",
    "plt.tight_layout()\n",
    "plt.show()"
   ]
  },
  {
   "cell_type": "code",
   "execution_count": 5,
   "metadata": {},
   "outputs": [],
   "source": [
    "top15 = df['ProtocolName'].value_counts().sort_values(ascending=False).head(15).index.tolist()"
   ]
  },
  {
   "cell_type": "code",
   "execution_count": 6,
   "metadata": {},
   "outputs": [],
   "source": [
    "filtered_df = df[df['ProtocolName'].isin(top15)]"
   ]
  },
  {
   "cell_type": "code",
   "execution_count": 7,
   "metadata": {},
   "outputs": [
    {
     "data": {
      "text/plain": [
       "((3499879, 87), (3577296, 87))"
      ]
     },
     "execution_count": 7,
     "metadata": {},
     "output_type": "execute_result"
    }
   ],
   "source": [
    "filtered_df.shape, df.shape"
   ]
  },
  {
   "cell_type": "code",
   "execution_count": 8,
   "metadata": {},
   "outputs": [
    {
     "data": {
      "text/plain": [
       "ProtocolName\n",
       "GOOGLE            959110\n",
       "HTTP              683734\n",
       "HTTP_PROXY        623210\n",
       "SSL               404883\n",
       "HTTP_CONNECT      317526\n",
       "YOUTUBE           170781\n",
       "AMAZON             86875\n",
       "MICROSOFT          54710\n",
       "GMAIL              40260\n",
       "WINDOWS_UPDATE     34471\n",
       "SKYPE              30657\n",
       "FACEBOOK           29033\n",
       "DROPBOX            25102\n",
       "YAHOO              21268\n",
       "TWITTER            18259\n",
       "Name: count, dtype: int64"
      ]
     },
     "execution_count": 8,
     "metadata": {},
     "output_type": "execute_result"
    }
   ],
   "source": [
    "filtered_df['ProtocolName'].value_counts()"
   ]
  },
  {
   "cell_type": "code",
   "execution_count": 9,
   "metadata": {},
   "outputs": [
    {
     "name": "stdout",
     "output_type": "stream",
     "text": [
      "Original dataset shape: (3577296, 87)\n",
      "Sampled dataset shape: (699976, 87)\n"
     ]
    }
   ],
   "source": [
    "sampled_data = filtered_df.sample(frac=0.2, random_state=42) \n",
    "\n",
    "print(\"Original dataset shape:\", df.shape)\n",
    "print(\"Sampled dataset shape:\", sampled_data.shape)"
   ]
  },
  {
   "cell_type": "code",
   "execution_count": 10,
   "metadata": {},
   "outputs": [],
   "source": [
    "all_zeros_columns = []\n",
    "\n",
    "for column in sampled_data:\n",
    "    if (sampled_data[column] == 0).all():\n",
    "        all_zeros_columns.append(column)\n",
    "\n",
    "sampled_data.drop(columns=all_zeros_columns, inplace=True)"
   ]
  },
  {
   "cell_type": "code",
   "execution_count": 11,
   "metadata": {},
   "outputs": [
    {
     "data": {
      "text/plain": [
       "(699976, 77)"
      ]
     },
     "execution_count": 11,
     "metadata": {},
     "output_type": "execute_result"
    }
   ],
   "source": [
    "sampled_data.shape"
   ]
  },
  {
   "cell_type": "code",
   "execution_count": 12,
   "metadata": {},
   "outputs": [],
   "source": [
    "sampled_data['Time'] = sampled_data['Timestamp'].str[-8:]\n",
    "sampled_data['Date'] = sampled_data['Timestamp'].str[:10]"
   ]
  },
  {
   "cell_type": "code",
   "execution_count": 13,
   "metadata": {},
   "outputs": [
    {
     "name": "stdout",
     "output_type": "stream",
     "text": [
      "Non-numeric columns: ['Flow.ID', 'Source.IP', 'Destination.IP', 'Timestamp', 'Label', 'ProtocolName', 'Time', 'Date']\n"
     ]
    }
   ],
   "source": [
    "non_numeric_columns = sampled_data.select_dtypes(exclude='number').columns.tolist()\n",
    "\n",
    "print(\"Non-numeric columns:\", non_numeric_columns)"
   ]
  },
  {
   "cell_type": "code",
   "execution_count": 14,
   "metadata": {},
   "outputs": [
    {
     "data": {
      "text/html": [
       "<div>\n",
       "<style scoped>\n",
       "    .dataframe tbody tr th:only-of-type {\n",
       "        vertical-align: middle;\n",
       "    }\n",
       "\n",
       "    .dataframe tbody tr th {\n",
       "        vertical-align: top;\n",
       "    }\n",
       "\n",
       "    .dataframe thead th {\n",
       "        text-align: right;\n",
       "    }\n",
       "</style>\n",
       "<table border=\"1\" class=\"dataframe\">\n",
       "  <thead>\n",
       "    <tr style=\"text-align: right;\">\n",
       "      <th></th>\n",
       "      <th>Flow.ID</th>\n",
       "      <th>Source.IP</th>\n",
       "      <th>Source.Port</th>\n",
       "      <th>Destination.IP</th>\n",
       "      <th>Destination.Port</th>\n",
       "      <th>Protocol</th>\n",
       "      <th>Timestamp</th>\n",
       "      <th>Flow.Duration</th>\n",
       "      <th>Total.Fwd.Packets</th>\n",
       "      <th>Total.Backward.Packets</th>\n",
       "      <th>...</th>\n",
       "      <th>ProtocolName</th>\n",
       "      <th>DateTime</th>\n",
       "      <th>Year</th>\n",
       "      <th>Month</th>\n",
       "      <th>Day</th>\n",
       "      <th>Hour</th>\n",
       "      <th>Minute</th>\n",
       "      <th>Second</th>\n",
       "      <th>Hour_sin</th>\n",
       "      <th>Hour_cos</th>\n",
       "    </tr>\n",
       "  </thead>\n",
       "  <tbody>\n",
       "    <tr>\n",
       "      <th>285966</th>\n",
       "      <td>192.168.81.78-10.200.7.4-54664-3128-6</td>\n",
       "      <td>192.168.81.78</td>\n",
       "      <td>54664</td>\n",
       "      <td>10.200.7.4</td>\n",
       "      <td>3128</td>\n",
       "      <td>6</td>\n",
       "      <td>26/04/201703:11:52</td>\n",
       "      <td>4427</td>\n",
       "      <td>2</td>\n",
       "      <td>0</td>\n",
       "      <td>...</td>\n",
       "      <td>HTTP_PROXY</td>\n",
       "      <td>2017-04-26 03:11:52</td>\n",
       "      <td>2017</td>\n",
       "      <td>4</td>\n",
       "      <td>26</td>\n",
       "      <td>3</td>\n",
       "      <td>11</td>\n",
       "      <td>52</td>\n",
       "      <td>0.707107</td>\n",
       "      <td>0.707107</td>\n",
       "    </tr>\n",
       "    <tr>\n",
       "      <th>738233</th>\n",
       "      <td>10.200.1.16-10.200.7.196-443-47340-6</td>\n",
       "      <td>10.200.7.196</td>\n",
       "      <td>47340</td>\n",
       "      <td>10.200.1.16</td>\n",
       "      <td>443</td>\n",
       "      <td>6</td>\n",
       "      <td>27/04/201709:51:09</td>\n",
       "      <td>115</td>\n",
       "      <td>1</td>\n",
       "      <td>3</td>\n",
       "      <td>...</td>\n",
       "      <td>SSL</td>\n",
       "      <td>2017-04-27 09:51:09</td>\n",
       "      <td>2017</td>\n",
       "      <td>4</td>\n",
       "      <td>27</td>\n",
       "      <td>9</td>\n",
       "      <td>51</td>\n",
       "      <td>9</td>\n",
       "      <td>0.707107</td>\n",
       "      <td>-0.707107</td>\n",
       "    </tr>\n",
       "    <tr>\n",
       "      <th>1115648</th>\n",
       "      <td>192.168.90.8-10.200.7.6-50863-3128-6</td>\n",
       "      <td>192.168.90.8</td>\n",
       "      <td>50863</td>\n",
       "      <td>10.200.7.6</td>\n",
       "      <td>3128</td>\n",
       "      <td>6</td>\n",
       "      <td>27/04/201711:26:18</td>\n",
       "      <td>326204</td>\n",
       "      <td>7</td>\n",
       "      <td>5</td>\n",
       "      <td>...</td>\n",
       "      <td>MICROSOFT</td>\n",
       "      <td>2017-04-27 11:26:18</td>\n",
       "      <td>2017</td>\n",
       "      <td>4</td>\n",
       "      <td>27</td>\n",
       "      <td>11</td>\n",
       "      <td>26</td>\n",
       "      <td>18</td>\n",
       "      <td>0.258819</td>\n",
       "      <td>-0.965926</td>\n",
       "    </tr>\n",
       "    <tr>\n",
       "      <th>1469680</th>\n",
       "      <td>192.168.10.65-10.200.7.6-60825-3128-6</td>\n",
       "      <td>192.168.10.65</td>\n",
       "      <td>60825</td>\n",
       "      <td>10.200.7.6</td>\n",
       "      <td>3128</td>\n",
       "      <td>6</td>\n",
       "      <td>27/04/201705:55:33</td>\n",
       "      <td>2384150</td>\n",
       "      <td>8</td>\n",
       "      <td>6</td>\n",
       "      <td>...</td>\n",
       "      <td>HTTP</td>\n",
       "      <td>2017-04-27 05:55:33</td>\n",
       "      <td>2017</td>\n",
       "      <td>4</td>\n",
       "      <td>27</td>\n",
       "      <td>5</td>\n",
       "      <td>55</td>\n",
       "      <td>33</td>\n",
       "      <td>0.965926</td>\n",
       "      <td>0.258819</td>\n",
       "    </tr>\n",
       "    <tr>\n",
       "      <th>1060504</th>\n",
       "      <td>172.17.1.200-10.200.7.9-49593-3128-6</td>\n",
       "      <td>10.200.7.9</td>\n",
       "      <td>3128</td>\n",
       "      <td>172.17.1.200</td>\n",
       "      <td>49593</td>\n",
       "      <td>6</td>\n",
       "      <td>27/04/201711:30:37</td>\n",
       "      <td>255</td>\n",
       "      <td>2</td>\n",
       "      <td>0</td>\n",
       "      <td>...</td>\n",
       "      <td>HTTP</td>\n",
       "      <td>2017-04-27 11:30:37</td>\n",
       "      <td>2017</td>\n",
       "      <td>4</td>\n",
       "      <td>27</td>\n",
       "      <td>11</td>\n",
       "      <td>30</td>\n",
       "      <td>37</td>\n",
       "      <td>0.258819</td>\n",
       "      <td>-0.965926</td>\n",
       "    </tr>\n",
       "  </tbody>\n",
       "</table>\n",
       "<p>5 rows × 86 columns</p>\n",
       "</div>"
      ],
      "text/plain": [
       "                                       Flow.ID      Source.IP  Source.Port  \\\n",
       "285966   192.168.81.78-10.200.7.4-54664-3128-6  192.168.81.78        54664   \n",
       "738233    10.200.1.16-10.200.7.196-443-47340-6   10.200.7.196        47340   \n",
       "1115648   192.168.90.8-10.200.7.6-50863-3128-6   192.168.90.8        50863   \n",
       "1469680  192.168.10.65-10.200.7.6-60825-3128-6  192.168.10.65        60825   \n",
       "1060504   172.17.1.200-10.200.7.9-49593-3128-6     10.200.7.9         3128   \n",
       "\n",
       "        Destination.IP  Destination.Port  Protocol           Timestamp  \\\n",
       "285966      10.200.7.4              3128         6  26/04/201703:11:52   \n",
       "738233     10.200.1.16               443         6  27/04/201709:51:09   \n",
       "1115648     10.200.7.6              3128         6  27/04/201711:26:18   \n",
       "1469680     10.200.7.6              3128         6  27/04/201705:55:33   \n",
       "1060504   172.17.1.200             49593         6  27/04/201711:30:37   \n",
       "\n",
       "         Flow.Duration  Total.Fwd.Packets  Total.Backward.Packets  ...  \\\n",
       "285966            4427                  2                       0  ...   \n",
       "738233             115                  1                       3  ...   \n",
       "1115648         326204                  7                       5  ...   \n",
       "1469680        2384150                  8                       6  ...   \n",
       "1060504            255                  2                       0  ...   \n",
       "\n",
       "         ProtocolName            DateTime  Year  Month  Day  Hour  Minute  \\\n",
       "285966     HTTP_PROXY 2017-04-26 03:11:52  2017      4   26     3      11   \n",
       "738233            SSL 2017-04-27 09:51:09  2017      4   27     9      51   \n",
       "1115648     MICROSOFT 2017-04-27 11:26:18  2017      4   27    11      26   \n",
       "1469680          HTTP 2017-04-27 05:55:33  2017      4   27     5      55   \n",
       "1060504          HTTP 2017-04-27 11:30:37  2017      4   27    11      30   \n",
       "\n",
       "         Second  Hour_sin  Hour_cos  \n",
       "285966       52  0.707107  0.707107  \n",
       "738233        9  0.707107 -0.707107  \n",
       "1115648      18  0.258819 -0.965926  \n",
       "1469680      33  0.965926  0.258819  \n",
       "1060504      37  0.258819 -0.965926  \n",
       "\n",
       "[5 rows x 86 columns]"
      ]
     },
     "execution_count": 14,
     "metadata": {},
     "output_type": "execute_result"
    }
   ],
   "source": [
    "sampled_data['DateTime'] = pd.to_datetime(sampled_data['Date'] + ' ' + sampled_data['Time'], format='%d/%m/%Y %H:%M:%S')\n",
    "\n",
    "# Extract relevant components\n",
    "sampled_data['Year'] = sampled_data['DateTime'].dt.year\n",
    "sampled_data['Month'] = sampled_data['DateTime'].dt.month\n",
    "sampled_data['Day'] = sampled_data['DateTime'].dt.day\n",
    "sampled_data['Hour'] = sampled_data['DateTime'].dt.hour\n",
    "sampled_data['Minute'] = sampled_data['DateTime'].dt.minute\n",
    "sampled_data['Second'] = sampled_data['DateTime'].dt.second\n",
    "\n",
    "# Encode cyclic features (hour, day of week, etc.) if needed\n",
    "sampled_data['Hour_sin'] = np.sin(2 * np.pi * sampled_data['Hour'] / 24)\n",
    "sampled_data['Hour_cos'] = np.cos(2 * np.pi * sampled_data['Hour'] / 24)\n",
    "# Similar encoding for other cyclical features\n",
    "\n",
    "# Drop original 'Time' and 'Date' columns\n",
    "sampled_data.drop(columns=['Time', 'Date'], inplace=True)\n",
    "\n",
    "# Print the resulting sampled_data\n",
    "sampled_data.head()"
   ]
  },
  {
   "cell_type": "code",
   "execution_count": 15,
   "metadata": {},
   "outputs": [
    {
     "name": "stdout",
     "output_type": "stream",
     "text": [
      "Non-numeric columns: ['Flow.ID', 'Source.IP', 'Destination.IP', 'Timestamp', 'Label', 'ProtocolName', 'DateTime']\n"
     ]
    }
   ],
   "source": [
    "non_numeric_columns = sampled_data.select_dtypes(exclude='number').columns.tolist()\n",
    "\n",
    "print(\"Non-numeric columns:\", non_numeric_columns)"
   ]
  },
  {
   "cell_type": "code",
   "execution_count": 16,
   "metadata": {},
   "outputs": [
    {
     "data": {
      "text/html": [
       "<div>\n",
       "<style scoped>\n",
       "    .dataframe tbody tr th:only-of-type {\n",
       "        vertical-align: middle;\n",
       "    }\n",
       "\n",
       "    .dataframe tbody tr th {\n",
       "        vertical-align: top;\n",
       "    }\n",
       "\n",
       "    .dataframe thead th {\n",
       "        text-align: right;\n",
       "    }\n",
       "</style>\n",
       "<table border=\"1\" class=\"dataframe\">\n",
       "  <thead>\n",
       "    <tr style=\"text-align: right;\">\n",
       "      <th></th>\n",
       "      <th>Flow.ID</th>\n",
       "      <th>Source.Port</th>\n",
       "      <th>Destination.Port</th>\n",
       "      <th>Protocol</th>\n",
       "      <th>Flow.Duration</th>\n",
       "      <th>Total.Fwd.Packets</th>\n",
       "      <th>Total.Backward.Packets</th>\n",
       "      <th>Total.Length.of.Fwd.Packets</th>\n",
       "      <th>Total.Length.of.Bwd.Packets</th>\n",
       "      <th>Fwd.Packet.Length.Max</th>\n",
       "      <th>...</th>\n",
       "      <th>Year</th>\n",
       "      <th>Month</th>\n",
       "      <th>Day</th>\n",
       "      <th>Hour</th>\n",
       "      <th>Minute</th>\n",
       "      <th>Second</th>\n",
       "      <th>Hour_sin</th>\n",
       "      <th>Hour_cos</th>\n",
       "      <th>Source_IP</th>\n",
       "      <th>Destination_IP</th>\n",
       "    </tr>\n",
       "  </thead>\n",
       "  <tbody>\n",
       "    <tr>\n",
       "      <th>285966</th>\n",
       "      <td>192.168.81.78-10.200.7.4-54664-3128-6</td>\n",
       "      <td>54664</td>\n",
       "      <td>3128</td>\n",
       "      <td>6</td>\n",
       "      <td>4427</td>\n",
       "      <td>2</td>\n",
       "      <td>0</td>\n",
       "      <td>0</td>\n",
       "      <td>0.0</td>\n",
       "      <td>0</td>\n",
       "      <td>...</td>\n",
       "      <td>2017</td>\n",
       "      <td>4</td>\n",
       "      <td>26</td>\n",
       "      <td>3</td>\n",
       "      <td>11</td>\n",
       "      <td>52</td>\n",
       "      <td>0.707107</td>\n",
       "      <td>0.707107</td>\n",
       "      <td>3232256334</td>\n",
       "      <td>180881156</td>\n",
       "    </tr>\n",
       "    <tr>\n",
       "      <th>738233</th>\n",
       "      <td>10.200.1.16-10.200.7.196-443-47340-6</td>\n",
       "      <td>47340</td>\n",
       "      <td>443</td>\n",
       "      <td>6</td>\n",
       "      <td>115</td>\n",
       "      <td>1</td>\n",
       "      <td>3</td>\n",
       "      <td>0</td>\n",
       "      <td>0.0</td>\n",
       "      <td>0</td>\n",
       "      <td>...</td>\n",
       "      <td>2017</td>\n",
       "      <td>4</td>\n",
       "      <td>27</td>\n",
       "      <td>9</td>\n",
       "      <td>51</td>\n",
       "      <td>9</td>\n",
       "      <td>0.707107</td>\n",
       "      <td>-0.707107</td>\n",
       "      <td>180881348</td>\n",
       "      <td>180879632</td>\n",
       "    </tr>\n",
       "    <tr>\n",
       "      <th>1115648</th>\n",
       "      <td>192.168.90.8-10.200.7.6-50863-3128-6</td>\n",
       "      <td>50863</td>\n",
       "      <td>3128</td>\n",
       "      <td>6</td>\n",
       "      <td>326204</td>\n",
       "      <td>7</td>\n",
       "      <td>5</td>\n",
       "      <td>388</td>\n",
       "      <td>110.0</td>\n",
       "      <td>141</td>\n",
       "      <td>...</td>\n",
       "      <td>2017</td>\n",
       "      <td>4</td>\n",
       "      <td>27</td>\n",
       "      <td>11</td>\n",
       "      <td>26</td>\n",
       "      <td>18</td>\n",
       "      <td>0.258819</td>\n",
       "      <td>-0.965926</td>\n",
       "      <td>3232258568</td>\n",
       "      <td>180881158</td>\n",
       "    </tr>\n",
       "    <tr>\n",
       "      <th>1469680</th>\n",
       "      <td>192.168.10.65-10.200.7.6-60825-3128-6</td>\n",
       "      <td>60825</td>\n",
       "      <td>3128</td>\n",
       "      <td>6</td>\n",
       "      <td>2384150</td>\n",
       "      <td>8</td>\n",
       "      <td>6</td>\n",
       "      <td>8854</td>\n",
       "      <td>2116.0</td>\n",
       "      <td>4307</td>\n",
       "      <td>...</td>\n",
       "      <td>2017</td>\n",
       "      <td>4</td>\n",
       "      <td>27</td>\n",
       "      <td>5</td>\n",
       "      <td>55</td>\n",
       "      <td>33</td>\n",
       "      <td>0.965926</td>\n",
       "      <td>0.258819</td>\n",
       "      <td>3232238145</td>\n",
       "      <td>180881158</td>\n",
       "    </tr>\n",
       "    <tr>\n",
       "      <th>1060504</th>\n",
       "      <td>172.17.1.200-10.200.7.9-49593-3128-6</td>\n",
       "      <td>3128</td>\n",
       "      <td>49593</td>\n",
       "      <td>6</td>\n",
       "      <td>255</td>\n",
       "      <td>2</td>\n",
       "      <td>0</td>\n",
       "      <td>69</td>\n",
       "      <td>0.0</td>\n",
       "      <td>63</td>\n",
       "      <td>...</td>\n",
       "      <td>2017</td>\n",
       "      <td>4</td>\n",
       "      <td>27</td>\n",
       "      <td>11</td>\n",
       "      <td>30</td>\n",
       "      <td>37</td>\n",
       "      <td>0.258819</td>\n",
       "      <td>-0.965926</td>\n",
       "      <td>180881161</td>\n",
       "      <td>2886795720</td>\n",
       "    </tr>\n",
       "  </tbody>\n",
       "</table>\n",
       "<p>5 rows × 85 columns</p>\n",
       "</div>"
      ],
      "text/plain": [
       "                                       Flow.ID  Source.Port  Destination.Port  \\\n",
       "285966   192.168.81.78-10.200.7.4-54664-3128-6        54664              3128   \n",
       "738233    10.200.1.16-10.200.7.196-443-47340-6        47340               443   \n",
       "1115648   192.168.90.8-10.200.7.6-50863-3128-6        50863              3128   \n",
       "1469680  192.168.10.65-10.200.7.6-60825-3128-6        60825              3128   \n",
       "1060504   172.17.1.200-10.200.7.9-49593-3128-6         3128             49593   \n",
       "\n",
       "         Protocol  Flow.Duration  Total.Fwd.Packets  Total.Backward.Packets  \\\n",
       "285966          6           4427                  2                       0   \n",
       "738233          6            115                  1                       3   \n",
       "1115648         6         326204                  7                       5   \n",
       "1469680         6        2384150                  8                       6   \n",
       "1060504         6            255                  2                       0   \n",
       "\n",
       "         Total.Length.of.Fwd.Packets  Total.Length.of.Bwd.Packets  \\\n",
       "285966                             0                          0.0   \n",
       "738233                             0                          0.0   \n",
       "1115648                          388                        110.0   \n",
       "1469680                         8854                       2116.0   \n",
       "1060504                           69                          0.0   \n",
       "\n",
       "         Fwd.Packet.Length.Max  ...  Year  Month  Day  Hour  Minute  Second  \\\n",
       "285966                       0  ...  2017      4   26     3      11      52   \n",
       "738233                       0  ...  2017      4   27     9      51       9   \n",
       "1115648                    141  ...  2017      4   27    11      26      18   \n",
       "1469680                   4307  ...  2017      4   27     5      55      33   \n",
       "1060504                     63  ...  2017      4   27    11      30      37   \n",
       "\n",
       "         Hour_sin  Hour_cos   Source_IP  Destination_IP  \n",
       "285966   0.707107  0.707107  3232256334       180881156  \n",
       "738233   0.707107 -0.707107   180881348       180879632  \n",
       "1115648  0.258819 -0.965926  3232258568       180881158  \n",
       "1469680  0.965926  0.258819  3232238145       180881158  \n",
       "1060504  0.258819 -0.965926   180881161      2886795720  \n",
       "\n",
       "[5 rows x 85 columns]"
      ]
     },
     "execution_count": 16,
     "metadata": {},
     "output_type": "execute_result"
    }
   ],
   "source": [
    "\n",
    "import ipaddress\n",
    "\n",
    "sampled_data['Source_IP'] = sampled_data['Source.IP'].apply(lambda x: int(ipaddress.IPv4Address(x)))\n",
    "sampled_data['Destination_IP'] = sampled_data['Destination.IP'].apply(lambda x: int(ipaddress.IPv4Address(x)))\n",
    "\n",
    "# Convert Source Port and Destination Port columns to integers (assuming they are represented as strings)\n",
    "# Drop the original columns\n",
    "sampled_data.drop(columns=['Source.IP', 'Destination.IP','Timestamp'], inplace=True)\n",
    "\n",
    "# Print the resulting dataset\n",
    "sampled_data.head()"
   ]
  },
  {
   "cell_type": "code",
   "execution_count": 17,
   "metadata": {},
   "outputs": [
    {
     "name": "stdout",
     "output_type": "stream",
     "text": [
      "Non-numeric columns: ['Flow.ID', 'Label', 'ProtocolName', 'DateTime']\n"
     ]
    }
   ],
   "source": [
    "non_numeric_columns = sampled_data.select_dtypes(exclude='number').columns.tolist()\n",
    "\n",
    "print(\"Non-numeric columns:\", non_numeric_columns)"
   ]
  },
  {
   "cell_type": "code",
   "execution_count": 18,
   "metadata": {},
   "outputs": [
    {
     "name": "stdout",
     "output_type": "stream",
     "text": [
      "Dropped columns: ['Subflow.Fwd.Packets', 'Subflow.Bwd.Packets', 'Subflow.Fwd.Bytes', 'SYN.Flag.Count', 'Fwd.Header.Length.1']\n"
     ]
    }
   ],
   "source": [
    "import pandas as pd\n",
    "\n",
    "duplicated_columns = []\n",
    "\n",
    "# Iterate through each column\n",
    "for i, column in enumerate(sampled_data.columns):\n",
    "    # Compare it with every other column\n",
    "    for j in range(i + 1, len(sampled_data.columns)):\n",
    "        # If the values in the two columns are identical, they are duplicates\n",
    "        if sampled_data[column].equals(sampled_data.iloc[:, j]):\n",
    "            duplicated_columns.append(sampled_data.columns[j])\n",
    "\n",
    "# Drop the duplicated columns\n",
    "sampled_data = sampled_data.drop(columns=duplicated_columns)\n",
    "\n",
    "# Print a message indicating which columns were dropped\n",
    "print(\"Dropped columns:\", duplicated_columns)\n"
   ]
  },
  {
   "cell_type": "code",
   "execution_count": 19,
   "metadata": {},
   "outputs": [],
   "source": [
    "sampled_data.drop(columns=['Flow.ID', 'Label','DateTime'], inplace=True)"
   ]
  },
  {
   "cell_type": "code",
   "execution_count": 20,
   "metadata": {},
   "outputs": [
    {
     "data": {
      "text/plain": [
       "(699976, 77)"
      ]
     },
     "execution_count": 20,
     "metadata": {},
     "output_type": "execute_result"
    }
   ],
   "source": [
    "sampled_data.shape"
   ]
  },
  {
   "cell_type": "code",
   "execution_count": 21,
   "metadata": {},
   "outputs": [
    {
     "name": "stdout",
     "output_type": "stream",
     "text": [
      "Non-numeric columns: ['ProtocolName']\n"
     ]
    }
   ],
   "source": [
    "non_numeric_columns = sampled_data.select_dtypes(exclude='number').columns.tolist()\n",
    "\n",
    "print(\"Non-numeric columns:\", non_numeric_columns)"
   ]
  },
  {
   "cell_type": "code",
   "execution_count": 22,
   "metadata": {},
   "outputs": [
    {
     "name": "stdout",
     "output_type": "stream",
     "text": [
      "Categorical columns: ['ProtocolName']\n"
     ]
    }
   ],
   "source": [
    "import pandas as pd\n",
    "\n",
    "# Assuming 'df' is your DataFrame\n",
    "# Get the data types of all columns\n",
    "data_types = sampled_data.dtypes\n",
    "\n",
    "# Filter columns with object or categorical dtype\n",
    "categorical_columns = data_types[data_types == 'object'].index.tolist()\n",
    "\n",
    "# Alternatively, you can also check for categorical dtype\n",
    "categorical_columns += data_types[data_types == 'category'].index.tolist()\n",
    "\n",
    "# Print the list of categorical columns\n",
    "print(\"Categorical columns:\", categorical_columns)\n"
   ]
  },
  {
   "cell_type": "code",
   "execution_count": 23,
   "metadata": {},
   "outputs": [
    {
     "name": "stdout",
     "output_type": "stream",
     "text": [
      "Columns needing feature scaling:\n",
      "['Source.Port', 'Destination.Port', 'Flow.Duration', 'Total.Fwd.Packets', 'Total.Backward.Packets', 'Total.Length.of.Fwd.Packets', 'Total.Length.of.Bwd.Packets', 'Fwd.Packet.Length.Max', 'Fwd.Packet.Length.Min', 'Fwd.Packet.Length.Mean', 'Fwd.Packet.Length.Std', 'Bwd.Packet.Length.Max', 'Bwd.Packet.Length.Min', 'Bwd.Packet.Length.Mean', 'Bwd.Packet.Length.Std', 'Flow.Bytes.s', 'Flow.Packets.s', 'Flow.IAT.Mean', 'Flow.IAT.Std', 'Flow.IAT.Max', 'Flow.IAT.Min', 'Fwd.IAT.Total', 'Fwd.IAT.Mean', 'Fwd.IAT.Std', 'Fwd.IAT.Max', 'Fwd.IAT.Min', 'Bwd.IAT.Total', 'Bwd.IAT.Mean', 'Bwd.IAT.Std', 'Bwd.IAT.Max', 'Bwd.IAT.Min', 'Fwd.Header.Length', 'Bwd.Header.Length', 'Fwd.Packets.s', 'Bwd.Packets.s', 'Min.Packet.Length', 'Max.Packet.Length', 'Packet.Length.Mean', 'Packet.Length.Std', 'Packet.Length.Variance', 'Down.Up.Ratio', 'Average.Packet.Size', 'Avg.Fwd.Segment.Size', 'Avg.Bwd.Segment.Size', 'Subflow.Bwd.Bytes', 'Init_Win_bytes_forward', 'Init_Win_bytes_backward', 'act_data_pkt_fwd', 'min_seg_size_forward', 'Active.Mean', 'Active.Std', 'Active.Max', 'Active.Min', 'Idle.Mean', 'Idle.Std', 'Idle.Max', 'Idle.Min', 'L7Protocol', 'Day', 'Hour', 'Minute', 'Second', 'Source_IP', 'Destination_IP']\n"
     ]
    }
   ],
   "source": [
    "summary_stats = sampled_data.describe()\n",
    "\n",
    "# Identify numerical columns with a large range of values (e.g., standard deviation)\n",
    "columns_to_scale = summary_stats.columns[(summary_stats.loc['std'] > 1.0) | (summary_stats.loc['std'] < -1.0)].tolist()\n",
    "\n",
    "print(\"Columns needing feature scaling:\")\n",
    "print(columns_to_scale)"
   ]
  },
  {
   "cell_type": "code",
   "execution_count": 24,
   "metadata": {},
   "outputs": [],
   "source": [
    "from sklearn.preprocessing import MinMaxScaler, StandardScaler\n",
    "\n",
    "\n",
    "# Standardization (Z-score normalization)\n",
    "standard_scaler = StandardScaler()\n",
    "sampled_data_standard_scaled = sampled_data.copy()  # Make a copy of the DataFrame\n",
    "sampled_data_standard_scaled[columns_to_scale] = standard_scaler.fit_transform(sampled_data_standard_scaled[columns_to_scale])\n"
   ]
  },
  {
   "cell_type": "code",
   "execution_count": 25,
   "metadata": {},
   "outputs": [
    {
     "data": {
      "text/plain": [
       "(699976, 77)"
      ]
     },
     "execution_count": 25,
     "metadata": {},
     "output_type": "execute_result"
    }
   ],
   "source": [
    "sampled_data_standard_scaled.shape"
   ]
  },
  {
   "cell_type": "code",
   "execution_count": 27,
   "metadata": {},
   "outputs": [],
   "source": [
    "from sklearn.model_selection import train_test_split\n",
    "\n",
    "# Assuming 'sampled_data_encoded' is your DataFrame with the target variable (protocol names) encoded\n",
    "\n",
    "# Split the data into features (X) and the encoded target variable (y)\n",
    "X = sampled_data_standard_scaled.drop(columns=['ProtocolName'])\n",
    "y = sampled_data_standard_scaled['ProtocolName']\n",
    "\n",
    "# Split the data into training and testing sets (e.g., 80% training, 20% testing)\n",
    "X_train, X_test, y_train, y_test = train_test_split(X, y, test_size=0.2, random_state=42)\n",
    "X_train, X_val, y_train, y_val = train_test_split(X_train, y_train, test_size=0.25, random_state=42)\n",
    "\n",
    "# Now, you have X_train, X_test, y_train, and y_test for model training and evaluation\n"
   ]
  },
  {
   "cell_type": "code",
   "execution_count": 28,
   "metadata": {},
   "outputs": [
    {
     "data": {
      "text/plain": [
       "((419985, 76), (139996, 76), (139995, 76), (419985,), (139996,), (139995,))"
      ]
     },
     "execution_count": 28,
     "metadata": {},
     "output_type": "execute_result"
    }
   ],
   "source": [
    "X_train.shape, X_test.shape, X_val.shape, y_train.shape, y_test.shape, y_val.shape"
   ]
  },
  {
   "cell_type": "code",
   "execution_count": 29,
   "metadata": {},
   "outputs": [
    {
     "name": "stdout",
     "output_type": "stream",
     "text": [
      "Random Forest:\n",
      "                precision    recall  f1-score   support\n",
      "\n",
      "        AMAZON       0.98      0.97      0.97      3474\n",
      "       DROPBOX       0.99      0.91      0.95      1017\n",
      "      FACEBOOK       0.97      0.92      0.95      1173\n",
      "         GMAIL       0.95      0.83      0.89      1666\n",
      "        GOOGLE       0.98      1.00      0.99     38573\n",
      "          HTTP       1.00      1.00      1.00     27234\n",
      "  HTTP_CONNECT       1.00      1.00      1.00     12739\n",
      "    HTTP_PROXY       0.99      1.00      0.99     24785\n",
      "     MICROSOFT       0.98      0.94      0.96      2165\n",
      "         SKYPE       0.96      0.83      0.89      1249\n",
      "           SSL       0.99      1.00      0.99     16146\n",
      "       TWITTER       0.93      0.65      0.77       750\n",
      "WINDOWS_UPDATE       0.98      0.94      0.96      1398\n",
      "         YAHOO       0.94      0.73      0.82       829\n",
      "       YOUTUBE       0.94      0.97      0.96      6798\n",
      "\n",
      "      accuracy                           0.99    139996\n",
      "     macro avg       0.97      0.91      0.94    139996\n",
      "  weighted avg       0.99      0.99      0.99    139996\n",
      "\n",
      "Accuracy: 0.9864138975399297\n"
     ]
    }
   ],
   "source": [
    "from sklearn.model_selection import train_test_split\n",
    "from sklearn.linear_model import LogisticRegression\n",
    "from sklearn.ensemble import RandomForestClassifier, GradientBoostingClassifier\n",
    "from sklearn.svm import SVC\n",
    "from sklearn.metrics import accuracy_score, classification_report\n",
    "\n",
    "# Initialize and fit models\n",
    "#logistic_regression = LogisticRegression()\n",
    "#logistic_regression.fit(X_train, y_train)\n",
    "\n",
    "random_forest = RandomForestClassifier()\n",
    "random_forest.fit(X_train, y_train)\n",
    "\n",
    "\n",
    "\n",
    "#svm = SVC()\n",
    "#svm.fit(X_train, y_train)\n",
    "\n",
    "# Make predictions\n",
    "#lr_predictions = logistic_regression.predict(X_test)\n",
    "rf_predictions = random_forest.predict(X_test)\n",
    "#gb_predictions = gradient_boosting.predict(X_test)\n",
    "#svm_predictions = svm.predict(X_test)\n",
    "\n",
    "# Evaluate models\n",
    "#print(\"Logistic Regression:\")\n",
    "#print(classification_report(y_test, lr_predictions))\n",
    "#print(\"Accuracy:\", accuracy_score(y_test, lr_predictions))\n",
    "\n",
    "print(\"Random Forest:\")\n",
    "print(classification_report(y_test, rf_predictions))\n",
    "print(\"Accuracy:\", accuracy_score(y_test, rf_predictions))\n",
    "\n",
    "\n"
   ]
  },
  {
   "cell_type": "code",
   "execution_count": 32,
   "metadata": {},
   "outputs": [
    {
     "name": "stdout",
     "output_type": "stream",
     "text": [
      "Classification Report for Validation Set:\n",
      "                precision    recall  f1-score   support\n",
      "\n",
      "        AMAZON       0.99      0.96      0.97      3389\n",
      "       DROPBOX       0.99      0.92      0.95      1056\n",
      "      FACEBOOK       0.98      0.92      0.95      1168\n",
      "         GMAIL       0.94      0.83      0.88      1578\n",
      "        GOOGLE       0.98      1.00      0.99     38515\n",
      "          HTTP       1.00      1.00      1.00     27355\n",
      "  HTTP_CONNECT       1.00      1.00      1.00     12679\n",
      "    HTTP_PROXY       0.99      1.00      0.99     25033\n",
      "     MICROSOFT       0.98      0.92      0.95      2110\n",
      "         SKYPE       0.96      0.83      0.89      1180\n",
      "           SSL       0.99      1.00      0.99     16231\n",
      "       TWITTER       0.93      0.64      0.76       715\n",
      "WINDOWS_UPDATE       0.98      0.93      0.96      1383\n",
      "         YAHOO       0.96      0.71      0.82       806\n",
      "       YOUTUBE       0.94      0.97      0.96      6797\n",
      "\n",
      "      accuracy                           0.99    139995\n",
      "     macro avg       0.97      0.91      0.94    139995\n",
      "  weighted avg       0.99      0.99      0.99    139995\n",
      "\n"
     ]
    }
   ],
   "source": [
    "y_val_pred = random_forest.predict(X_val)\n",
    "\n",
    "classification_rep = classification_report(y_val, y_val_pred)\n",
    "\n",
    "print(\"Classification Report for Validation Set:\")\n",
    "print(classification_rep)"
   ]
  },
  {
   "cell_type": "code",
   "execution_count": 33,
   "metadata": {},
   "outputs": [
    {
     "name": "stderr",
     "output_type": "stream",
     "text": [
      "/Library/Frameworks/Python.framework/Versions/3.12/lib/python3.12/site-packages/sklearn/linear_model/_logistic.py:469: ConvergenceWarning: lbfgs failed to converge (status=1):\n",
      "STOP: TOTAL NO. of ITERATIONS REACHED LIMIT.\n",
      "\n",
      "Increase the number of iterations (max_iter) or scale the data as shown in:\n",
      "    https://scikit-learn.org/stable/modules/preprocessing.html\n",
      "Please also refer to the documentation for alternative solver options:\n",
      "    https://scikit-learn.org/stable/modules/linear_model.html#logistic-regression\n",
      "  n_iter_i = _check_optimize_result(\n",
      "/Library/Frameworks/Python.framework/Versions/3.12/lib/python3.12/site-packages/sklearn/metrics/_classification.py:1509: UndefinedMetricWarning: Precision is ill-defined and being set to 0.0 in labels with no predicted samples. Use `zero_division` parameter to control this behavior.\n",
      "  _warn_prf(average, modifier, f\"{metric.capitalize()} is\", len(result))\n",
      "/Library/Frameworks/Python.framework/Versions/3.12/lib/python3.12/site-packages/sklearn/metrics/_classification.py:1509: UndefinedMetricWarning: Precision is ill-defined and being set to 0.0 in labels with no predicted samples. Use `zero_division` parameter to control this behavior.\n",
      "  _warn_prf(average, modifier, f\"{metric.capitalize()} is\", len(result))\n"
     ]
    },
    {
     "name": "stdout",
     "output_type": "stream",
     "text": [
      "                precision    recall  f1-score   support\n",
      "\n",
      "        AMAZON       0.85      0.83      0.84      3474\n",
      "       DROPBOX       0.91      0.48      0.63      1017\n",
      "      FACEBOOK       0.80      0.11      0.19      1173\n",
      "         GMAIL       0.00      0.00      0.00      1666\n",
      "        GOOGLE       0.64      0.80      0.71     38573\n",
      "          HTTP       1.00      1.00      1.00     27234\n",
      "  HTTP_CONNECT       0.44      0.41      0.42     12739\n",
      "    HTTP_PROXY       0.63      0.71      0.67     24785\n",
      "     MICROSOFT       0.93      0.80      0.86      2165\n",
      "         SKYPE       0.56      0.02      0.04      1249\n",
      "           SSL       0.92      0.96      0.94     16146\n",
      "       TWITTER       0.00      0.00      0.00       750\n",
      "WINDOWS_UPDATE       0.72      0.20      0.31      1398\n",
      "         YAHOO       0.00      0.00      0.00       829\n",
      "       YOUTUBE       0.62      0.13      0.22      6798\n",
      "\n",
      "      accuracy                           0.73    139996\n",
      "     macro avg       0.60      0.43      0.46    139996\n",
      "  weighted avg       0.72      0.73      0.71    139996\n",
      "\n",
      "Accuracy: 0.7349352838652533\n"
     ]
    },
    {
     "name": "stderr",
     "output_type": "stream",
     "text": [
      "/Library/Frameworks/Python.framework/Versions/3.12/lib/python3.12/site-packages/sklearn/metrics/_classification.py:1509: UndefinedMetricWarning: Precision is ill-defined and being set to 0.0 in labels with no predicted samples. Use `zero_division` parameter to control this behavior.\n",
      "  _warn_prf(average, modifier, f\"{metric.capitalize()} is\", len(result))\n"
     ]
    }
   ],
   "source": [
    "logistic_regression = LogisticRegression(max_iter=5000)\n",
    "logistic_regression.fit(X_train, y_train)\n",
    "lr_predictions = logistic_regression.predict(X_test)\n",
    "print(classification_report(y_test, lr_predictions))\n",
    "print(\"Accuracy:\", accuracy_score(y_test, lr_predictions))"
   ]
  },
  {
   "cell_type": "code",
   "execution_count": 34,
   "metadata": {},
   "outputs": [
    {
     "name": "stderr",
     "output_type": "stream",
     "text": [
      "/Library/Frameworks/Python.framework/Versions/3.12/lib/python3.12/site-packages/sklearn/metrics/_classification.py:1509: UndefinedMetricWarning: Precision is ill-defined and being set to 0.0 in labels with no predicted samples. Use `zero_division` parameter to control this behavior.\n",
      "  _warn_prf(average, modifier, f\"{metric.capitalize()} is\", len(result))\n",
      "/Library/Frameworks/Python.framework/Versions/3.12/lib/python3.12/site-packages/sklearn/metrics/_classification.py:1509: UndefinedMetricWarning: Precision is ill-defined and being set to 0.0 in labels with no predicted samples. Use `zero_division` parameter to control this behavior.\n",
      "  _warn_prf(average, modifier, f\"{metric.capitalize()} is\", len(result))\n"
     ]
    },
    {
     "name": "stdout",
     "output_type": "stream",
     "text": [
      "Classification Report for Validation Set:\n",
      "                precision    recall  f1-score   support\n",
      "\n",
      "        AMAZON       0.84      0.82      0.83      3389\n",
      "       DROPBOX       0.91      0.48      0.63      1056\n",
      "      FACEBOOK       0.86      0.12      0.21      1168\n",
      "         GMAIL       0.12      0.00      0.00      1578\n",
      "        GOOGLE       0.65      0.80      0.72     38515\n",
      "          HTTP       1.00      1.00      1.00     27355\n",
      "  HTTP_CONNECT       0.44      0.41      0.42     12679\n",
      "    HTTP_PROXY       0.63      0.71      0.67     25033\n",
      "     MICROSOFT       0.93      0.78      0.84      2110\n",
      "         SKYPE       0.51      0.02      0.04      1180\n",
      "           SSL       0.93      0.97      0.95     16231\n",
      "       TWITTER       0.00      0.00      0.00       715\n",
      "WINDOWS_UPDATE       0.71      0.19      0.29      1383\n",
      "         YAHOO       0.00      0.00      0.00       806\n",
      "       YOUTUBE       0.64      0.14      0.22      6797\n",
      "\n",
      "      accuracy                           0.74    139995\n",
      "     macro avg       0.61      0.43      0.46    139995\n",
      "  weighted avg       0.73      0.74      0.71    139995\n",
      "\n"
     ]
    },
    {
     "name": "stderr",
     "output_type": "stream",
     "text": [
      "/Library/Frameworks/Python.framework/Versions/3.12/lib/python3.12/site-packages/sklearn/metrics/_classification.py:1509: UndefinedMetricWarning: Precision is ill-defined and being set to 0.0 in labels with no predicted samples. Use `zero_division` parameter to control this behavior.\n",
      "  _warn_prf(average, modifier, f\"{metric.capitalize()} is\", len(result))\n"
     ]
    }
   ],
   "source": [
    "y_val_pred = logistic_regression.predict(X_val)\n",
    "\n",
    "classification_rep = classification_report(y_val, y_val_pred)\n",
    "\n",
    "print(\"Classification Report for Validation Set:\")\n",
    "print(classification_rep)"
   ]
  },
  {
   "cell_type": "code",
   "execution_count": null,
   "metadata": {},
   "outputs": [],
   "source": [
    "for i, column in enumerate(sampled_data.columns):\n",
    "    # Compare it with every other column\n",
    "    for j in range(i + 1, len(sampled_data.columns)):\n",
    "        # If the values in the two columns are identical, they are duplicates\n",
    "        if sampled_data[column].equals(sampled_data.iloc[:, j]):\n",
    "            duplicated_columns.append(sampled_data.columns[j])\n",
    "\n",
    "# Drop the duplicated columns\n",
    "sampled_data = sampled_data.drop(columns=duplicated_columns)\n",
    "\n",
    "# Print a message indicating which columns were dropped\n",
    "print(\"Dropped columns:\", duplicated_columns)"
   ]
  },
  {
   "cell_type": "code",
   "execution_count": 35,
   "metadata": {},
   "outputs": [],
   "source": [
    "import pickle\n",
    "pickle.dump(sampled_data_standard_scaled,open('preprocessed_data.pickle',mode = 'wb'))"
   ]
  },
  {
   "cell_type": "code",
   "execution_count": null,
   "metadata": {},
   "outputs": [],
   "source": []
  }
 ],
 "metadata": {
  "kernelspec": {
   "display_name": "Python 3",
   "language": "python",
   "name": "python3"
  },
  "language_info": {
   "codemirror_mode": {
    "name": "ipython",
    "version": 3
   },
   "file_extension": ".py",
   "mimetype": "text/x-python",
   "name": "python",
   "nbconvert_exporter": "python",
   "pygments_lexer": "ipython3",
   "version": "3.12.0"
  },
  "orig_nbformat": 4
 },
 "nbformat": 4,
 "nbformat_minor": 2
}
